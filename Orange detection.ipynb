{
 "cells": [
  {
   "cell_type": "code",
   "execution_count": 1,
   "metadata": {},
   "outputs": [
    {
     "name": "stderr",
     "output_type": "stream",
     "text": [
      "Using TensorFlow backend.\n"
     ]
    }
   ],
   "source": [
    "from keras.models import Sequential\n",
    "from keras.layers import Convolution2D\n",
    "from keras.layers import Flatten\n",
    "from keras.layers import Dense\n",
    "from keras.layers import MaxPooling2D"
   ]
  },
  {
   "cell_type": "code",
   "execution_count": 2,
   "metadata": {},
   "outputs": [],
   "source": [
    "model = Sequential()"
   ]
  },
  {
   "cell_type": "code",
   "execution_count": 4,
   "metadata": {},
   "outputs": [],
   "source": [
    "model.add(Convolution2D(32,(3,3),input_shape = (64,64,3), activation = 'relu'))"
   ]
  },
  {
   "cell_type": "code",
   "execution_count": 5,
   "metadata": {},
   "outputs": [],
   "source": [
    "model.add(MaxPooling2D(pool_size = (2,2)))"
   ]
  },
  {
   "cell_type": "code",
   "execution_count": 6,
   "metadata": {},
   "outputs": [],
   "source": [
    "model.add(Convolution2D(32,(3,3), activation = 'relu'))"
   ]
  },
  {
   "cell_type": "code",
   "execution_count": 7,
   "metadata": {},
   "outputs": [],
   "source": [
    "model.add(MaxPooling2D(pool_size = (2,2)))"
   ]
  },
  {
   "cell_type": "code",
   "execution_count": 8,
   "metadata": {},
   "outputs": [],
   "source": [
    "model.add(Flatten())"
   ]
  },
  {
   "cell_type": "code",
   "execution_count": 9,
   "metadata": {},
   "outputs": [],
   "source": [
    "model.add(Dense(units=32,activation = 'relu'))\n",
    "\n",
    "model.add(Dense(units=64,activation = 'relu'))\n",
    "\n",
    "model.add(Dense(units=128,activation = 'relu'))\n",
    "\n",
    "model.add(Dense(units=256,activation = 'relu'))\n",
    "\n",
    "model.add(Dense(units=256,activation = 'relu'))\n",
    "\n",
    "model.add(Dense(units=64,activation = 'relu'))\n",
    "\n",
    "model.add(Dense(units=6,activation = 'softmax'))"
   ]
  },
  {
   "cell_type": "code",
   "execution_count": 10,
   "metadata": {},
   "outputs": [],
   "source": [
    "model.compile(optimizer = 'adam', loss = 'categorical_crossentropy', metrics= ['accuracy'])"
   ]
  },
  {
   "cell_type": "code",
   "execution_count": 11,
   "metadata": {},
   "outputs": [
    {
     "name": "stdout",
     "output_type": "stream",
     "text": [
      "Model: \"sequential_1\"\n",
      "_________________________________________________________________\n",
      "Layer (type)                 Output Shape              Param #   \n",
      "=================================================================\n",
      "conv2d_1 (Conv2D)            (None, 62, 62, 32)        896       \n",
      "_________________________________________________________________\n",
      "conv2d_2 (Conv2D)            (None, 60, 60, 32)        9248      \n",
      "_________________________________________________________________\n",
      "max_pooling2d_1 (MaxPooling2 (None, 30, 30, 32)        0         \n",
      "_________________________________________________________________\n",
      "conv2d_3 (Conv2D)            (None, 28, 28, 32)        9248      \n",
      "_________________________________________________________________\n",
      "max_pooling2d_2 (MaxPooling2 (None, 14, 14, 32)        0         \n",
      "_________________________________________________________________\n",
      "flatten_1 (Flatten)          (None, 6272)              0         \n",
      "_________________________________________________________________\n",
      "dense_1 (Dense)              (None, 32)                200736    \n",
      "_________________________________________________________________\n",
      "dense_2 (Dense)              (None, 64)                2112      \n",
      "_________________________________________________________________\n",
      "dense_3 (Dense)              (None, 128)               8320      \n",
      "_________________________________________________________________\n",
      "dense_4 (Dense)              (None, 256)               33024     \n",
      "_________________________________________________________________\n",
      "dense_5 (Dense)              (None, 256)               65792     \n",
      "_________________________________________________________________\n",
      "dense_6 (Dense)              (None, 64)                16448     \n",
      "_________________________________________________________________\n",
      "dense_7 (Dense)              (None, 6)                 390       \n",
      "=================================================================\n",
      "Total params: 346,214\n",
      "Trainable params: 346,214\n",
      "Non-trainable params: 0\n",
      "_________________________________________________________________\n"
     ]
    }
   ],
   "source": [
    "model.summary()"
   ]
  },
  {
   "cell_type": "code",
   "execution_count": 12,
   "metadata": {},
   "outputs": [],
   "source": [
    "from keras.preprocessing.image import ImageDataGenerator"
   ]
  },
  {
   "cell_type": "code",
   "execution_count": 13,
   "metadata": {},
   "outputs": [],
   "source": [
    "train = ImageDataGenerator(rescale = 1./255,\n",
    "                           shear_range = 0.2,\n",
    "                           zoom_range = 0.2,\n",
    "                           horizontal_flip = True)"
   ]
  },
  {
   "cell_type": "code",
   "execution_count": 14,
   "metadata": {},
   "outputs": [],
   "source": [
    "test = ImageDataGenerator(rescale = 1./255)"
   ]
  },
  {
   "cell_type": "code",
   "execution_count": 15,
   "metadata": {},
   "outputs": [
    {
     "name": "stdout",
     "output_type": "stream",
     "text": [
      "Found 1212 images belonging to 6 classes.\n"
     ]
    }
   ],
   "source": [
    "train_set = train.flow_from_directory( 'train',\n",
    "                                        target_size=(64,64),\n",
    "                                        batch_size=12, #Total no. of batches\n",
    "                                        class_mode='categorical')\n"
   ]
  },
  {
   "cell_type": "code",
   "execution_count": 16,
   "metadata": {},
   "outputs": [
    {
     "name": "stdout",
     "output_type": "stream",
     "text": [
      "Found 300 images belonging to 6 classes.\n"
     ]
    }
   ],
   "source": [
    "test_set = test.flow_from_directory('test',\n",
    "                                     target_size=(64,64),\n",
    "                                     batch_size=12,\n",
    "                                     class_mode='categorical')"
   ]
  },
  {
   "cell_type": "code",
   "execution_count": 19,
   "metadata": {},
   "outputs": [],
   "source": [
    "import numpy as np\n",
    "import pandas as pd"
   ]
  },
  {
   "cell_type": "code",
   "execution_count": 24,
   "metadata": {},
   "outputs": [
    {
     "name": "stdout",
     "output_type": "stream",
     "text": [
      "WARNING:tensorflow:From C:\\Users\\vikram\\AppData\\Local\\conda\\conda\\envs\\ztdl\\lib\\site-packages\\tensorflow\\python\\ops\\math_ops.py:3066: to_int32 (from tensorflow.python.ops.math_ops) is deprecated and will be removed in a future version.\n",
      "Instructions for updating:\n",
      "Use tf.cast instead.\n"
     ]
    },
    {
     "name": "stderr",
     "output_type": "stream",
     "text": [
      "C:\\Users\\vikram\\AppData\\Local\\conda\\conda\\envs\\ztdl\\lib\\site-packages\\ipykernel_launcher.py:5: UserWarning: The semantics of the Keras 2 argument `steps_per_epoch` is not the same as the Keras 1 argument `samples_per_epoch`. `steps_per_epoch` is the number of batches to draw from the generator at each epoch. Basically steps_per_epoch = samples_per_epoch/batch_size. Similarly `nb_val_samples`->`validation_steps` and `val_samples`->`steps` arguments have changed. Update your method calls accordingly.\n",
      "  \"\"\"\n",
      "C:\\Users\\vikram\\AppData\\Local\\conda\\conda\\envs\\ztdl\\lib\\site-packages\\ipykernel_launcher.py:5: UserWarning: Update your `fit_generator` call to the Keras 2 API: `fit_generator(<keras_pre..., validation_data=<keras_pre..., steps_per_epoch=101, epochs=20, validation_steps=300)`\n",
      "  \"\"\"\n"
     ]
    },
    {
     "name": "stdout",
     "output_type": "stream",
     "text": [
      "Epoch 1/20\n",
      "101/101 [==============================] - 98s 968ms/step - loss: 1.5342 - acc: 0.3399 - val_loss: 1.3454 - val_acc: 0.4400\n",
      "Epoch 2/20\n",
      "101/101 [==============================] - 67s 664ms/step - loss: 1.2601 - acc: 0.4860 - val_loss: 1.1218 - val_acc: 0.6000\n",
      "Epoch 3/20\n",
      "101/101 [==============================] - 67s 663ms/step - loss: 1.0243 - acc: 0.5635 - val_loss: 0.9173 - val_acc: 0.6000\n",
      "Epoch 4/20\n",
      "101/101 [==============================] - 68s 669ms/step - loss: 0.8771 - acc: 0.6469 - val_loss: 0.7226 - val_acc: 0.6600\n",
      "Epoch 5/20\n",
      "101/101 [==============================] - 69s 684ms/step - loss: 0.8533 - acc: 0.6510 - val_loss: 0.6268 - val_acc: 0.7933\n",
      "Epoch 6/20\n",
      "101/101 [==============================] - 66s 652ms/step - loss: 0.7275 - acc: 0.7112 - val_loss: 0.6812 - val_acc: 0.7267\n",
      "Epoch 7/20\n",
      "101/101 [==============================] - 65s 643ms/step - loss: 0.5869 - acc: 0.7937 - val_loss: 0.3720 - val_acc: 0.8567\n",
      "Epoch 8/20\n",
      "101/101 [==============================] - 65s 643ms/step - loss: 0.5215 - acc: 0.8119 - val_loss: 0.4251 - val_acc: 0.8500\n",
      "Epoch 9/20\n",
      "101/101 [==============================] - 65s 641ms/step - loss: 0.4652 - acc: 0.8333 - val_loss: 0.3000 - val_acc: 0.8933\n",
      "Epoch 10/20\n",
      "101/101 [==============================] - 65s 641ms/step - loss: 0.3652 - acc: 0.8663 - val_loss: 0.3660 - val_acc: 0.8667\n",
      "Epoch 11/20\n",
      "101/101 [==============================] - 65s 639ms/step - loss: 0.3997 - acc: 0.8630 - val_loss: 0.3076 - val_acc: 0.9000\n",
      "Epoch 12/20\n",
      "101/101 [==============================] - 65s 640ms/step - loss: 0.3469 - acc: 0.8795 - val_loss: 0.3080 - val_acc: 0.8933\n",
      "Epoch 13/20\n",
      "101/101 [==============================] - 64s 636ms/step - loss: 0.3357 - acc: 0.8845 - val_loss: 0.2299 - val_acc: 0.9100\n",
      "Epoch 14/20\n",
      "101/101 [==============================] - 766s 8s/step - loss: 0.3457 - acc: 0.8771 - val_loss: 0.4969 - val_acc: 0.8033\n",
      "Epoch 15/20\n",
      "101/101 [==============================] - 65s 644ms/step - loss: 0.3144 - acc: 0.8944 - val_loss: 0.3326 - val_acc: 0.9033\n",
      "Epoch 16/20\n",
      "101/101 [==============================] - 65s 643ms/step - loss: 0.3582 - acc: 0.8878 - val_loss: 0.2685 - val_acc: 0.9067\n",
      "Epoch 17/20\n",
      "101/101 [==============================] - 65s 646ms/step - loss: 0.3448 - acc: 0.8804 - val_loss: 0.2753 - val_acc: 0.8933\n",
      "Epoch 18/20\n",
      "101/101 [==============================] - 65s 644ms/step - loss: 0.3022 - acc: 0.8960 - val_loss: 0.4694 - val_acc: 0.8133\n",
      "Epoch 19/20\n",
      "101/101 [==============================] - 66s 651ms/step - loss: 0.2776 - acc: 0.9092 - val_loss: 0.3080 - val_acc: 0.8867\n",
      "Epoch 20/20\n",
      "101/101 [==============================] - 65s 643ms/step - loss: 0.2042 - acc: 0.9241 - val_loss: 0.2232 - val_acc: 0.9267\n"
     ]
    },
    {
     "data": {
      "text/plain": [
       "<keras.callbacks.History at 0xc2475e4888>"
      ]
     },
     "execution_count": 24,
     "metadata": {},
     "output_type": "execute_result"
    }
   ],
   "source": [
    "model.fit_generator(train_set,\n",
    "                         samples_per_epoch=1212, \n",
    "                         nb_epoch = 20, \n",
    "                         validation_data = test_set,\n",
    "                         nb_val_samples = 300) "
   ]
  },
  {
   "cell_type": "code",
   "execution_count": 25,
   "metadata": {},
   "outputs": [],
   "source": [
    "#used this command to save my model  to use it many other app for classification amoung the fruits ;\n",
    "\n",
    "model.save(\"model_2.h5\")"
   ]
  },
  {
   "cell_type": "code",
   "execution_count": null,
   "metadata": {},
   "outputs": [],
   "source": []
  }
 ],
 "metadata": {
  "kernelspec": {
   "display_name": "Python 3",
   "language": "python",
   "name": "python3"
  },
  "language_info": {
   "codemirror_mode": {
    "name": "ipython",
    "version": 3
   },
   "file_extension": ".py",
   "mimetype": "text/x-python",
   "name": "python",
   "nbconvert_exporter": "python",
   "pygments_lexer": "ipython3",
   "version": "3.7.9"
  }
 },
 "nbformat": 4,
 "nbformat_minor": 4
}
