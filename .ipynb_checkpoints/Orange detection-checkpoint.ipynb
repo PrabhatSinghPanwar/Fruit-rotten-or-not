{
 "cells": [
  {
   "cell_type": "code",
   "execution_count": 1,
   "metadata": {},
   "outputs": [
    {
     "name": "stderr",
     "output_type": "stream",
     "text": [
      "Using TensorFlow backend.\n"
     ]
    }
   ],
   "source": [
    "from keras.models import Sequential\n",
    "from keras.layers import Convolution2D\n",
    "from keras.layers import Flatten\n",
    "from keras.layers import Dense\n",
    "from keras.layers import MaxPooling2D"
   ]
  },
  {
   "cell_type": "code",
   "execution_count": 2,
   "metadata": {},
   "outputs": [],
   "source": [
    "model = Sequential()"
   ]
  },
  {
   "cell_type": "code",
   "execution_count": 4,
   "metadata": {},
   "outputs": [],
   "source": [
    "model.add(Convolution2D(32,(3,3),input_shape = (64,64,3), activation = 'relu'))"
   ]
  },
  {
   "cell_type": "code",
   "execution_count": 5,
   "metadata": {},
   "outputs": [],
   "source": [
    "model.add(MaxPooling2D(pool_size = (2,2)))"
   ]
  },
  {
   "cell_type": "code",
   "execution_count": 6,
   "metadata": {},
   "outputs": [],
   "source": [
    "model.add(Convolution2D(32,(3,3), activation = 'relu'))"
   ]
  },
  {
   "cell_type": "code",
   "execution_count": 7,
   "metadata": {},
   "outputs": [],
   "source": [
    "model.add(MaxPooling2D(pool_size = (2,2)))"
   ]
  },
  {
   "cell_type": "code",
   "execution_count": 8,
   "metadata": {},
   "outputs": [],
   "source": [
    "model.add(Flatten())"
   ]
  },
  {
   "cell_type": "code",
   "execution_count": 9,
   "metadata": {},
   "outputs": [],
   "source": [
    "model.add(Dense(units=32,activation = 'relu'))\n",
    "\n",
    "model.add(Dense(units=64,activation = 'relu'))\n",
    "\n",
    "model.add(Dense(units=128,activation = 'relu'))\n",
    "\n",
    "model.add(Dense(units=256,activation = 'relu'))\n",
    "\n",
    "model.add(Dense(units=256,activation = 'relu'))\n",
    "\n",
    "model.add(Dense(units=6,activation = 'softmax'))"
   ]
  },
  {
   "cell_type": "code",
   "execution_count": 10,
   "metadata": {},
   "outputs": [],
   "source": [
    "model.compile(optimizer = 'adam', loss = 'categorical_crossentropy', metrics= ['accuracy'])"
   ]
  },
  {
   "cell_type": "code",
   "execution_count": 11,
   "metadata": {},
   "outputs": [
    {
     "name": "stdout",
     "output_type": "stream",
     "text": [
      "Model: \"sequential_1\"\n",
      "_________________________________________________________________\n",
      "Layer (type)                 Output Shape              Param #   \n",
      "=================================================================\n",
      "conv2d_1 (Conv2D)            (None, 62, 62, 32)        896       \n",
      "_________________________________________________________________\n",
      "conv2d_2 (Conv2D)            (None, 60, 60, 32)        9248      \n",
      "_________________________________________________________________\n",
      "max_pooling2d_1 (MaxPooling2 (None, 30, 30, 32)        0         \n",
      "_________________________________________________________________\n",
      "conv2d_3 (Conv2D)            (None, 28, 28, 32)        9248      \n",
      "_________________________________________________________________\n",
      "max_pooling2d_2 (MaxPooling2 (None, 14, 14, 32)        0         \n",
      "_________________________________________________________________\n",
      "flatten_1 (Flatten)          (None, 6272)              0         \n",
      "_________________________________________________________________\n",
      "dense_1 (Dense)              (None, 32)                200736    \n",
      "_________________________________________________________________\n",
      "dense_2 (Dense)              (None, 64)                2112      \n",
      "_________________________________________________________________\n",
      "dense_3 (Dense)              (None, 128)               8320      \n",
      "_________________________________________________________________\n",
      "dense_4 (Dense)              (None, 256)               33024     \n",
      "_________________________________________________________________\n",
      "dense_5 (Dense)              (None, 256)               65792     \n",
      "_________________________________________________________________\n",
      "dense_6 (Dense)              (None, 6)                 1542      \n",
      "=================================================================\n",
      "Total params: 330,918\n",
      "Trainable params: 330,918\n",
      "Non-trainable params: 0\n",
      "_________________________________________________________________\n"
     ]
    }
   ],
   "source": [
    "model.summary()"
   ]
  },
  {
   "cell_type": "code",
   "execution_count": 12,
   "metadata": {},
   "outputs": [],
   "source": [
    "from keras.preprocessing.image import ImageDataGenerator"
   ]
  },
  {
   "cell_type": "code",
   "execution_count": 16,
   "metadata": {},
   "outputs": [],
   "source": [
    "train = ImageDataGenerator(rescale = 1./255,\n",
    "                           shear_range = 0.2,\n",
    "                           zoom_range = 0.2,\n",
    "                           horizontal_flip = True)"
   ]
  },
  {
   "cell_type": "code",
   "execution_count": 17,
   "metadata": {},
   "outputs": [],
   "source": [
    "test = ImageDataGenerator(rescale = 1./255)"
   ]
  },
  {
   "cell_type": "code",
   "execution_count": 18,
   "metadata": {},
   "outputs": [
    {
     "name": "stdout",
     "output_type": "stream",
     "text": [
      "Found 1212 images belonging to 6 classes.\n"
     ]
    }
   ],
   "source": [
    "train_set = train.flow_from_directory( 'train',\n",
    "                                        target_size=(64,64),\n",
    "                                        batch_size=12, #Total no. of batches\n",
    "                                        class_mode='categorical')\n"
   ]
  },
  {
   "cell_type": "code",
   "execution_count": 19,
   "metadata": {},
   "outputs": [
    {
     "name": "stdout",
     "output_type": "stream",
     "text": [
      "Found 300 images belonging to 6 classes.\n"
     ]
    }
   ],
   "source": [
    "test_set = test.flow_from_directory('test',\n",
    "                                     target_size=(64,64),\n",
    "                                     batch_size=12,\n",
    "                                     class_mode='categorical')"
   ]
  },
  {
   "cell_type": "code",
   "execution_count": 20,
   "metadata": {},
   "outputs": [
    {
     "name": "stdout",
     "output_type": "stream",
     "text": [
      "WARNING:tensorflow:From C:\\Users\\vikram\\AppData\\Local\\conda\\conda\\envs\\ztdl\\lib\\site-packages\\tensorflow\\python\\ops\\math_ops.py:3066: to_int32 (from tensorflow.python.ops.math_ops) is deprecated and will be removed in a future version.\n",
      "Instructions for updating:\n",
      "Use tf.cast instead.\n"
     ]
    },
    {
     "name": "stderr",
     "output_type": "stream",
     "text": [
      "C:\\Users\\vikram\\AppData\\Local\\conda\\conda\\envs\\ztdl\\lib\\site-packages\\ipykernel_launcher.py:5: UserWarning: The semantics of the Keras 2 argument `steps_per_epoch` is not the same as the Keras 1 argument `samples_per_epoch`. `steps_per_epoch` is the number of batches to draw from the generator at each epoch. Basically steps_per_epoch = samples_per_epoch/batch_size. Similarly `nb_val_samples`->`validation_steps` and `val_samples`->`steps` arguments have changed. Update your method calls accordingly.\n",
      "  \"\"\"\n",
      "C:\\Users\\vikram\\AppData\\Local\\conda\\conda\\envs\\ztdl\\lib\\site-packages\\ipykernel_launcher.py:5: UserWarning: Update your `fit_generator` call to the Keras 2 API: `fit_generator(<keras_pre..., validation_data=<keras_pre..., steps_per_epoch=101, epochs=20, validation_steps=300)`\n",
      "  \"\"\"\n"
     ]
    },
    {
     "name": "stdout",
     "output_type": "stream",
     "text": [
      "Epoch 1/20\n",
      "101/101 [==============================] - 101s 1s/step - loss: 1.5745 - acc: 0.3168 - val_loss: 1.3356 - val_acc: 0.4800\n",
      "Epoch 2/20\n",
      "101/101 [==============================] - 67s 660ms/step - loss: 1.3030 - acc: 0.4241 - val_loss: 1.0263 - val_acc: 0.5367\n",
      "Epoch 3/20\n",
      "101/101 [==============================] - 68s 671ms/step - loss: 1.1129 - acc: 0.5256 - val_loss: 0.7423 - val_acc: 0.6800\n",
      "Epoch 4/20\n",
      "101/101 [==============================] - 64s 637ms/step - loss: 0.8819 - acc: 0.6328 - val_loss: 0.8311 - val_acc: 0.6067\n",
      "Epoch 5/20\n",
      "101/101 [==============================] - 71s 702ms/step - loss: 0.7535 - acc: 0.7063 - val_loss: 0.6636 - val_acc: 0.7467\n",
      "Epoch 6/20\n",
      "101/101 [==============================] - 68s 668ms/step - loss: 0.6735 - acc: 0.7508 - val_loss: 0.4285 - val_acc: 0.8267\n",
      "Epoch 7/20\n",
      "101/101 [==============================] - 65s 641ms/step - loss: 0.6258 - acc: 0.7607 - val_loss: 0.4435 - val_acc: 0.8100\n",
      "Epoch 8/20\n",
      "101/101 [==============================] - 64s 636ms/step - loss: 0.5715 - acc: 0.7880 - val_loss: 0.5220 - val_acc: 0.7767\n",
      "Epoch 9/20\n",
      "101/101 [==============================] - 67s 668ms/step - loss: 0.5041 - acc: 0.8185 - val_loss: 0.3639 - val_acc: 0.8700\n",
      "Epoch 10/20\n",
      "101/101 [==============================] - 69s 684ms/step - loss: 0.4920 - acc: 0.8251 - val_loss: 0.3889 - val_acc: 0.8733\n",
      "Epoch 11/20\n",
      "101/101 [==============================] - 65s 639ms/step - loss: 0.4131 - acc: 0.8531 - val_loss: 0.2918 - val_acc: 0.9133\n",
      "Epoch 12/20\n",
      "101/101 [==============================] - 65s 644ms/step - loss: 0.4616 - acc: 0.8416 - val_loss: 0.6201 - val_acc: 0.7767\n",
      "Epoch 13/20\n",
      "101/101 [==============================] - 66s 649ms/step - loss: 0.4244 - acc: 0.8597 - val_loss: 0.3992 - val_acc: 0.8500\n",
      "Epoch 14/20\n",
      "101/101 [==============================] - 65s 646ms/step - loss: 0.4363 - acc: 0.8515 - val_loss: 0.4391 - val_acc: 0.8500\n",
      "Epoch 15/20\n",
      "101/101 [==============================] - 71s 703ms/step - loss: 0.4267 - acc: 0.8589 - val_loss: 0.4698 - val_acc: 0.8567\n",
      "Epoch 16/20\n",
      "101/101 [==============================] - 65s 648ms/step - loss: 0.3653 - acc: 0.8746 - val_loss: 0.3635 - val_acc: 0.8733\n",
      "Epoch 17/20\n",
      "101/101 [==============================] - 65s 646ms/step - loss: 0.3303 - acc: 0.8837 - val_loss: 0.3690 - val_acc: 0.8633\n",
      "Epoch 18/20\n",
      "101/101 [==============================] - 65s 643ms/step - loss: 0.3238 - acc: 0.8944 - val_loss: 0.2709 - val_acc: 0.8933\n",
      "Epoch 19/20\n",
      "101/101 [==============================] - 65s 645ms/step - loss: 0.3225 - acc: 0.8936 - val_loss: 0.6713 - val_acc: 0.7667\n",
      "Epoch 20/20\n",
      "101/101 [==============================] - 65s 642ms/step - loss: 0.3859 - acc: 0.8754 - val_loss: 0.3750 - val_acc: 0.8867\n"
     ]
    },
    {
     "data": {
      "text/plain": [
       "<keras.callbacks.History at 0xe7bc6d5388>"
      ]
     },
     "execution_count": 20,
     "metadata": {},
     "output_type": "execute_result"
    }
   ],
   "source": [
    "model.fit_generator(train_set,\n",
    "                         samples_per_epoch=1212, \n",
    "                         nb_epoch = 20, \n",
    "                         validation_data = test_set,\n",
    "                         nb_val_samples = 300) "
   ]
  },
  {
   "cell_type": "code",
   "execution_count": 21,
   "metadata": {},
   "outputs": [],
   "source": [
    "#used this command to save my model  to use it many other app for classification amoung the fruit ;\n",
    "\n",
    "model.save(\"model_2.h5\")"
   ]
  },
  {
   "cell_type": "code",
   "execution_count": null,
   "metadata": {},
   "outputs": [],
   "source": []
  }
 ],
 "metadata": {
  "kernelspec": {
   "display_name": "Python 3",
   "language": "python",
   "name": "python3"
  },
  "language_info": {
   "codemirror_mode": {
    "name": "ipython",
    "version": 3
   },
   "file_extension": ".py",
   "mimetype": "text/x-python",
   "name": "python",
   "nbconvert_exporter": "python",
   "pygments_lexer": "ipython3",
   "version": "3.7.9"
  }
 },
 "nbformat": 4,
 "nbformat_minor": 4
}
