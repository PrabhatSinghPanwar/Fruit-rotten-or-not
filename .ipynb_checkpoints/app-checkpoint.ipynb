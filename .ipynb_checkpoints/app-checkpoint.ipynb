{
 "cells": [
  {
   "cell_type": "code",
   "execution_count": 6,
   "metadata": {},
   "outputs": [],
   "source": [
    "import os"
   ]
  },
  {
   "cell_type": "code",
   "execution_count": 7,
   "metadata": {},
   "outputs": [],
   "source": [
    "from flask import Flask, request, render_template, send_from_directory "
   ]
  },
  {
   "cell_type": "code",
   "execution_count": 8,
   "metadata": {},
   "outputs": [],
   "source": [
    "app = Flask(__name__)"
   ]
  },
  {
   "cell_type": "code",
   "execution_count": null,
   "metadata": {},
   "outputs": [],
   "source": [
    "APP_ROOT = os.path.dirname(os.path.abspath(__file__))"
   ]
  },
  {
   "cell_type": "code",
   "execution_count": null,
   "metadata": {},
   "outputs": [],
   "source": [
    "classes = ['Fresh Apple','Fresh Banana','Fresh Orange','Rotten Apple','Rotten Banana','Rotten Orange']"
   ]
  },
  {
   "cell_type": "code",
   "execution_count": null,
   "metadata": {},
   "outputs": [],
   "source": [
    "@app.route(\"/\")\n",
    "def index():\n",
    "    return render_template(\"index.html\")"
   ]
  },
  {
   "cell_type": "code",
   "execution_count": null,
   "metadata": {},
   "outputs": [],
   "source": [
    "@app.route(\"/upload\", methods=[\"POST\"])\n",
    "def upload():\n",
    "    target = os.path.join(APP_ROOT, 'images/')\n",
    "    # target = os.path.join(APP_ROOT, 'static/')\n",
    "    print(target)\n",
    "    if not os.path.isdir(target):\n",
    "            os.mkdir(target)\n",
    "    else:\n",
    "        print(\"Couldn't create upload directory: {}\".format(target))\n",
    "    print(request.files.getlist(\"file\"))\n",
    "    for upload in request.files.getlist(\"file\"):\n",
    "        print(upload)\n",
    "        print(\"{} is the file name\".format(upload.filename))\n",
    "        filename = upload.filename\n",
    "        destination = \"/\".join([target, filename])\n",
    "        print (\"Accept incoming file:\", filename)\n",
    "        print (\"Save it to:\", destination)\n",
    "        upload.save(destination)\n",
    "        #import tensorflow as tf\n",
    "        import numpy as np\n",
    "        from keras.preprocessing import image\n",
    "\n",
    "        from keras.models import load_model\n",
    "        new_model = load_model('model_2.h5')\n",
    "        new_model.summary()\n",
    "        test_image = image.load_img('images\\\\'+filename,target_size=(64,64))\n",
    "        test_image = image.img_to_array(test_image)\n",
    "        test_image = np.expand_dims(test_image, axis = 0)\n",
    "        result = new_model.predict(test_image)\n",
    "        result1 = result[0]\n",
    "        for i in range(6):\n",
    "    \n",
    "            if result1[i] == 1.:\n",
    "                break;\n",
    "        prediction = classes[i]\n",
    "\n",
    "    # return send_from_directory(\"images\", filename, as_attachment=True)\n",
    "    return render_template(\"template.html\",image_name=filename, text=prediction)"
   ]
  },
  {
   "cell_type": "code",
   "execution_count": null,
   "metadata": {},
   "outputs": [],
   "source": [
    "@app.route('/upload/<filename>')\n",
    "def send_image(filename):\n",
    "    return send_from_directory(\"images\", filename)"
   ]
  },
  {
   "cell_type": "code",
   "execution_count": null,
   "metadata": {},
   "outputs": [],
   "source": [
    "if __name__ == \"__main__\":\n",
    "    app.run(debug=False)"
   ]
  }
 ],
 "metadata": {
  "kernelspec": {
   "display_name": "Python 3",
   "language": "python",
   "name": "python3"
  },
  "language_info": {
   "codemirror_mode": {
    "name": "ipython",
    "version": 3
   },
   "file_extension": ".py",
   "mimetype": "text/x-python",
   "name": "python",
   "nbconvert_exporter": "python",
   "pygments_lexer": "ipython3",
   "version": "3.7.9"
  }
 },
 "nbformat": 4,
 "nbformat_minor": 4
}
